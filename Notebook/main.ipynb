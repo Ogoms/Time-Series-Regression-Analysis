{
 "cells": [
  {
   "cell_type": "markdown",
   "metadata": {},
   "source": [
    "# **Time Series Regression Analysis**"
   ]
  },
  {
   "cell_type": "markdown",
   "metadata": {},
   "source": [
    "## **<span style=\"color: blue;\">Business Understanding</span>**"
   ]
  },
  {
   "cell_type": "markdown",
   "metadata": {},
   "source": [
    "The main objective is to build a model that accurately predicts unit sales for thousands of products across different Favorita store locations. This will help ensure optimal inventory management, reduce waste, and improve operational efficiency."
   ]
  },
  {
   "cell_type": "markdown",
   "metadata": {},
   "source": [
    "We have access to several datasets:\n",
    "\n",
    "1. Training data: Contains dates, store and product information, promotions, and sales figures.\n",
    "2. Store metadata: Includes cluster, type, city, and state information.\n",
    "3. Oil price data: Daily oil prices for the relevant time period.\n",
    "4. Transactions data: Daily transaction counts for each store.\n",
    "\n",
    "Key features include:\n",
    "\n",
    "1. store_nbr: Identifies the store location\n",
    "2. family: Product category\n",
    "3. sales: Total sales for a product family at a specific store on a given date\n",
    "4. onpromotion: Number of items in a product family on promotion"
   ]
  },
  {
   "cell_type": "markdown",
   "metadata": {},
   "source": [
    "### **Hypothesis**"
   ]
  },
  {
   "cell_type": "markdown",
   "metadata": {},
   "source": [
    "**Null Hypothesis (H0):**\n",
    "\n",
    "Promotional activities (as measured by the 'onpromotion' variable) have no significant effect on the daily sales of products across Favorita stores.\n",
    "\n",
    "Mathematically, we can express this as:\n",
    "        \n",
    "H0: β = 0\n",
    "\n",
    "Where β is the coefficient of the 'onpromotion' variable in our predictive model.\n",
    "\n",
    "**Alternative Hypothesis (H1):**\n",
    "\n",
    "Promotional activities have a significant effect on the daily sales of products across Favorita stores.\n",
    "\n",
    "Mathematically, we can express this as:\n",
    "\n",
    "H1: β ≠ 0"
   ]
  },
  {
   "cell_type": "markdown",
   "metadata": {},
   "source": [
    "### **Analytical Questions**"
   ]
  },
  {
   "cell_type": "markdown",
   "metadata": {},
   "source": [
    "1. Is the train dataset complete (has all the required dates)?\n",
    "2. Which dates have the lowest and highest sales for each year (excluding days the store was closed)?\n",
    "3. Compare the sales for each month across the years and determine which month of which year had the highest sales.\n",
    "4. Did the earthquake impact sales?\n",
    "5. Are certain stores or groups of stores selling more products? (Cluster, city, state, type)\n",
    "6. Are sales affected by promotions, oil prices and holidays?\n",
    "7. What analysis can we get from the date and its extractable features?\n",
    "8. Which product family and stores did the promotions affect.\n",
    "9. What is the difference between RMSLE, RMSE, MSE (or why is the MAE greater than all of them?)\n",
    "10. Does the payment of wages in the public sector on the 15th and last days of the month influence the store sales."
   ]
  },
  {
   "cell_type": "markdown",
   "metadata": {},
   "source": [
    "## **<span style=\"color: blue;\">Data Understanding</span>**"
   ]
  },
  {
   "cell_type": "markdown",
   "metadata": {},
   "source": [
    "### **<span style=\"color: skyblue;\">Importation</span>**"
   ]
  },
  {
   "cell_type": "markdown",
   "metadata": {},
   "source": [
    "**Importation of all necessary packages**"
   ]
  },
  {
   "cell_type": "code",
   "execution_count": 1,
   "metadata": {},
   "outputs": [],
   "source": [
    "import pandas as pd\n",
    "import numpy as np\n",
    "import matplotlib.pyplot as plt\n",
    "import seaborn as sns"
   ]
  },
  {
   "cell_type": "markdown",
   "metadata": {},
   "source": [
    "**Dataset Importation & Loading**"
   ]
  },
  {
   "cell_type": "code",
   "execution_count": 2,
   "metadata": {},
   "outputs": [
    {
     "name": "stdout",
     "output_type": "stream",
     "text": [
      "pyodbc is installed and imported successfully\n"
     ]
    }
   ],
   "source": [
    "# Connect to the Database Using \"pyodbc\"\n",
    "import pyodbc\n",
    "print(\"pyodbc is installed and imported successfully\")\n",
    "\n",
    "import pyodbc\n",
    "from dotenv import dotenv_values    #import the dotenv_values function from the dotenv package\n",
    "import pandas as pd\n",
    "import warnings \n",
    "\n",
    "warnings.filterwarnings('ignore')\n",
    "\n",
    "# Load environment variables from .env file into a dictionary\n",
    "environment_variables = dotenv_values('.env')\n",
    "\n",
    "# Get the values for the credentials set in the '.env' file\n",
    "server = environment_variables.get(\"SERVER_NAME\")\n",
    "database = environment_variables.get(\"DATABASE_NAME\")\n",
    "login = environment_variables.get(\"LOGIN\")\n",
    "password = environment_variables.get(\"PASSWORD\")"
   ]
  },
  {
   "cell_type": "code",
   "execution_count": 3,
   "metadata": {},
   "outputs": [],
   "source": [
    "# Create a connection string\n",
    "connection_string = f\"DRIVER={{SQL Server}};SERVER={server};DATABASE={database};UID={login};PWD={password};MARS_Connection=yes;MinProtocolVersion=TLSv1.2;\"\n"
   ]
  },
  {
   "cell_type": "code",
   "execution_count": 4,
   "metadata": {},
   "outputs": [
    {
     "name": "stdout",
     "output_type": "stream",
     "text": [
      "Connection successful\n"
     ]
    }
   ],
   "source": [
    "# connect to the Database\n",
    "connection = pyodbc.connect(connection_string)\n",
    "print(\"Connection successful\")"
   ]
  },
  {
   "cell_type": "code",
   "execution_count": 5,
   "metadata": {},
   "outputs": [],
   "source": [
    "# Query the Sql Database\n",
    "query = \"SELECT * FROM dbo.oil\"\n",
    "\n",
    "# Execute the query and read the results into a DataFrame\n",
    "oil = pd.read_sql(query, connection)"
   ]
  },
  {
   "cell_type": "code",
   "execution_count": 6,
   "metadata": {},
   "outputs": [],
   "source": [
    "# Query the Sql Database\n",
    "query = \"SELECT * FROM dbo.holidays_events\"\n",
    "\n",
    "# Execute the query and read the results into a DataFrame\n",
    "holidays_events = pd.read_sql(query, connection)"
   ]
  },
  {
   "cell_type": "code",
   "execution_count": 7,
   "metadata": {},
   "outputs": [],
   "source": [
    "# Query the Sql Database\n",
    "query = \"SELECT * FROM dbo.stores\"\n",
    "\n",
    "# Execute the query and read the results into a DataFrame\n",
    "stores = pd.read_sql(query, connection)"
   ]
  },
  {
   "cell_type": "code",
   "execution_count": 8,
   "metadata": {},
   "outputs": [],
   "source": [
    "sample_submission = pd.read_csv('../Data/sample_submission.csv')"
   ]
  },
  {
   "cell_type": "code",
   "execution_count": 9,
   "metadata": {},
   "outputs": [],
   "source": [
    "test = pd.read_csv('../Data/test.csv')"
   ]
  },
  {
   "cell_type": "code",
   "execution_count": 10,
   "metadata": {},
   "outputs": [],
   "source": [
    "train = pd.read_csv('../Data/train.csv')"
   ]
  },
  {
   "cell_type": "code",
   "execution_count": 11,
   "metadata": {},
   "outputs": [],
   "source": [
    "transactions = pd.read_csv('../Data/transactions.csv')"
   ]
  },
  {
   "cell_type": "markdown",
   "metadata": {},
   "source": [
    "### **<span style=\"color: skyblue;\">Exploratory Data Analysis</span>**"
   ]
  },
  {
   "cell_type": "markdown",
   "metadata": {},
   "source": [
    "#### train data"
   ]
  },
  {
   "cell_type": "code",
   "execution_count": 12,
   "metadata": {},
   "outputs": [
    {
     "name": "stdout",
     "output_type": "stream",
     "text": [
      "<class 'pandas.core.frame.DataFrame'>\n",
      "RangeIndex: 3000888 entries, 0 to 3000887\n",
      "Data columns (total 6 columns):\n",
      " #   Column       Dtype  \n",
      "---  ------       -----  \n",
      " 0   id           int64  \n",
      " 1   date         object \n",
      " 2   store_nbr    int64  \n",
      " 3   family       object \n",
      " 4   sales        float64\n",
      " 5   onpromotion  int64  \n",
      "dtypes: float64(1), int64(3), object(2)\n",
      "memory usage: 137.4+ MB\n"
     ]
    }
   ],
   "source": [
    "train.info()"
   ]
  },
  {
   "cell_type": "code",
   "execution_count": 13,
   "metadata": {},
   "outputs": [],
   "source": [
    "# Convert date to datetime format\n",
    "\n",
    "train['date'] = pd.to_datetime(train['date'])"
   ]
  },
  {
   "cell_type": "code",
   "execution_count": 14,
   "metadata": {},
   "outputs": [],
   "source": [
    "# Create additional time-based features\n",
    "\n",
    "train['day_of_week'] = train['date'].dt.dayofweek\n",
    "train['month'] = train['date'].dt.month\n",
    "train['year'] = train['date'].dt.year\n",
    "train['weekend'] = train['day_of_week'].isin([5, 6]).astype(int)\n"
   ]
  },
  {
   "cell_type": "code",
   "execution_count": 15,
   "metadata": {},
   "outputs": [
    {
     "name": "stdout",
     "output_type": "stream",
     "text": [
      "<class 'pandas.core.frame.DataFrame'>\n",
      "RangeIndex: 3000888 entries, 0 to 3000887\n",
      "Data columns (total 10 columns):\n",
      " #   Column       Dtype         \n",
      "---  ------       -----         \n",
      " 0   id           int64         \n",
      " 1   date         datetime64[ns]\n",
      " 2   store_nbr    int64         \n",
      " 3   family       object        \n",
      " 4   sales        float64       \n",
      " 5   onpromotion  int64         \n",
      " 6   day_of_week  int32         \n",
      " 7   month        int32         \n",
      " 8   year         int32         \n",
      " 9   weekend      int64         \n",
      "dtypes: datetime64[ns](1), float64(1), int32(3), int64(4), object(1)\n",
      "memory usage: 194.6+ MB\n"
     ]
    }
   ],
   "source": [
    "train.info()"
   ]
  },
  {
   "cell_type": "code",
   "execution_count": 16,
   "metadata": {},
   "outputs": [
    {
     "data": {
      "text/html": [
       "<div>\n",
       "<style scoped>\n",
       "    .dataframe tbody tr th:only-of-type {\n",
       "        vertical-align: middle;\n",
       "    }\n",
       "\n",
       "    .dataframe tbody tr th {\n",
       "        vertical-align: top;\n",
       "    }\n",
       "\n",
       "    .dataframe thead th {\n",
       "        text-align: right;\n",
       "    }\n",
       "</style>\n",
       "<table border=\"1\" class=\"dataframe\">\n",
       "  <thead>\n",
       "    <tr style=\"text-align: right;\">\n",
       "      <th></th>\n",
       "      <th>count</th>\n",
       "      <th>mean</th>\n",
       "      <th>min</th>\n",
       "      <th>25%</th>\n",
       "      <th>50%</th>\n",
       "      <th>75%</th>\n",
       "      <th>max</th>\n",
       "      <th>std</th>\n",
       "    </tr>\n",
       "  </thead>\n",
       "  <tbody>\n",
       "    <tr>\n",
       "      <th>id</th>\n",
       "      <td>3000888.0</td>\n",
       "      <td>1500443.5</td>\n",
       "      <td>0.0</td>\n",
       "      <td>750221.75</td>\n",
       "      <td>1500443.5</td>\n",
       "      <td>2250665.25</td>\n",
       "      <td>3000887.0</td>\n",
       "      <td>866281.891642</td>\n",
       "    </tr>\n",
       "    <tr>\n",
       "      <th>date</th>\n",
       "      <td>3000888</td>\n",
       "      <td>2015-04-24 08:27:04.703088384</td>\n",
       "      <td>2013-01-01 00:00:00</td>\n",
       "      <td>2014-02-26 18:00:00</td>\n",
       "      <td>2015-04-24 12:00:00</td>\n",
       "      <td>2016-06-19 06:00:00</td>\n",
       "      <td>2017-08-15 00:00:00</td>\n",
       "      <td>NaN</td>\n",
       "    </tr>\n",
       "    <tr>\n",
       "      <th>store_nbr</th>\n",
       "      <td>3000888.0</td>\n",
       "      <td>27.5</td>\n",
       "      <td>1.0</td>\n",
       "      <td>14.0</td>\n",
       "      <td>27.5</td>\n",
       "      <td>41.0</td>\n",
       "      <td>54.0</td>\n",
       "      <td>15.585787</td>\n",
       "    </tr>\n",
       "    <tr>\n",
       "      <th>sales</th>\n",
       "      <td>3000888.0</td>\n",
       "      <td>357.775749</td>\n",
       "      <td>0.0</td>\n",
       "      <td>0.0</td>\n",
       "      <td>11.0</td>\n",
       "      <td>195.84725</td>\n",
       "      <td>124717.0</td>\n",
       "      <td>1101.997721</td>\n",
       "    </tr>\n",
       "    <tr>\n",
       "      <th>onpromotion</th>\n",
       "      <td>3000888.0</td>\n",
       "      <td>2.60277</td>\n",
       "      <td>0.0</td>\n",
       "      <td>0.0</td>\n",
       "      <td>0.0</td>\n",
       "      <td>0.0</td>\n",
       "      <td>741.0</td>\n",
       "      <td>12.218882</td>\n",
       "    </tr>\n",
       "    <tr>\n",
       "      <th>day_of_week</th>\n",
       "      <td>3000888.0</td>\n",
       "      <td>2.997031</td>\n",
       "      <td>0.0</td>\n",
       "      <td>1.0</td>\n",
       "      <td>3.0</td>\n",
       "      <td>5.0</td>\n",
       "      <td>6.0</td>\n",
       "      <td>2.00074</td>\n",
       "    </tr>\n",
       "    <tr>\n",
       "      <th>month</th>\n",
       "      <td>3000888.0</td>\n",
       "      <td>6.207838</td>\n",
       "      <td>1.0</td>\n",
       "      <td>3.0</td>\n",
       "      <td>6.0</td>\n",
       "      <td>9.0</td>\n",
       "      <td>12.0</td>\n",
       "      <td>3.385668</td>\n",
       "    </tr>\n",
       "    <tr>\n",
       "      <th>year</th>\n",
       "      <td>3000888.0</td>\n",
       "      <td>2014.837886</td>\n",
       "      <td>2013.0</td>\n",
       "      <td>2014.0</td>\n",
       "      <td>2015.0</td>\n",
       "      <td>2016.0</td>\n",
       "      <td>2017.0</td>\n",
       "      <td>1.345518</td>\n",
       "    </tr>\n",
       "    <tr>\n",
       "      <th>weekend</th>\n",
       "      <td>3000888.0</td>\n",
       "      <td>0.285629</td>\n",
       "      <td>0.0</td>\n",
       "      <td>0.0</td>\n",
       "      <td>0.0</td>\n",
       "      <td>1.0</td>\n",
       "      <td>1.0</td>\n",
       "      <td>0.451714</td>\n",
       "    </tr>\n",
       "  </tbody>\n",
       "</table>\n",
       "</div>"
      ],
      "text/plain": [
       "                 count                           mean                  min  \\\n",
       "id           3000888.0                      1500443.5                  0.0   \n",
       "date           3000888  2015-04-24 08:27:04.703088384  2013-01-01 00:00:00   \n",
       "store_nbr    3000888.0                           27.5                  1.0   \n",
       "sales        3000888.0                     357.775749                  0.0   \n",
       "onpromotion  3000888.0                        2.60277                  0.0   \n",
       "day_of_week  3000888.0                       2.997031                  0.0   \n",
       "month        3000888.0                       6.207838                  1.0   \n",
       "year         3000888.0                    2014.837886               2013.0   \n",
       "weekend      3000888.0                       0.285629                  0.0   \n",
       "\n",
       "                             25%                  50%                  75%  \\\n",
       "id                     750221.75            1500443.5           2250665.25   \n",
       "date         2014-02-26 18:00:00  2015-04-24 12:00:00  2016-06-19 06:00:00   \n",
       "store_nbr                   14.0                 27.5                 41.0   \n",
       "sales                        0.0                 11.0            195.84725   \n",
       "onpromotion                  0.0                  0.0                  0.0   \n",
       "day_of_week                  1.0                  3.0                  5.0   \n",
       "month                        3.0                  6.0                  9.0   \n",
       "year                      2014.0               2015.0               2016.0   \n",
       "weekend                      0.0                  0.0                  1.0   \n",
       "\n",
       "                             max            std  \n",
       "id                     3000887.0  866281.891642  \n",
       "date         2017-08-15 00:00:00            NaN  \n",
       "store_nbr                   54.0      15.585787  \n",
       "sales                   124717.0    1101.997721  \n",
       "onpromotion                741.0      12.218882  \n",
       "day_of_week                  6.0        2.00074  \n",
       "month                       12.0       3.385668  \n",
       "year                      2017.0       1.345518  \n",
       "weekend                      1.0       0.451714  "
      ]
     },
     "execution_count": 16,
     "metadata": {},
     "output_type": "execute_result"
    }
   ],
   "source": [
    "train.describe().T"
   ]
  },
  {
   "cell_type": "code",
   "execution_count": 17,
   "metadata": {},
   "outputs": [
    {
     "data": {
      "text/plain": [
       "np.int64(0)"
      ]
     },
     "execution_count": 17,
     "metadata": {},
     "output_type": "execute_result"
    }
   ],
   "source": [
    "train.isnull().sum().sum()"
   ]
  },
  {
   "cell_type": "code",
   "execution_count": 18,
   "metadata": {},
   "outputs": [
    {
     "data": {
      "text/plain": [
       "np.int64(0)"
      ]
     },
     "execution_count": 18,
     "metadata": {},
     "output_type": "execute_result"
    }
   ],
   "source": [
    "train.duplicated().sum().sum()"
   ]
  },
  {
   "cell_type": "code",
   "execution_count": 19,
   "metadata": {},
   "outputs": [
    {
     "data": {
      "text/html": [
       "<div>\n",
       "<style scoped>\n",
       "    .dataframe tbody tr th:only-of-type {\n",
       "        vertical-align: middle;\n",
       "    }\n",
       "\n",
       "    .dataframe tbody tr th {\n",
       "        vertical-align: top;\n",
       "    }\n",
       "\n",
       "    .dataframe thead th {\n",
       "        text-align: right;\n",
       "    }\n",
       "</style>\n",
       "<table border=\"1\" class=\"dataframe\">\n",
       "  <thead>\n",
       "    <tr style=\"text-align: right;\">\n",
       "      <th></th>\n",
       "      <th>id</th>\n",
       "      <th>store_nbr</th>\n",
       "      <th>sales</th>\n",
       "      <th>onpromotion</th>\n",
       "      <th>day_of_week</th>\n",
       "      <th>month</th>\n",
       "      <th>year</th>\n",
       "      <th>weekend</th>\n",
       "    </tr>\n",
       "  </thead>\n",
       "  <tbody>\n",
       "    <tr>\n",
       "      <th>id</th>\n",
       "      <td>1.000000</td>\n",
       "      <td>3.013308e-04</td>\n",
       "      <td>0.085784</td>\n",
       "      <td>0.206260</td>\n",
       "      <td>-1.561462e-03</td>\n",
       "      <td>6.743357e-02</td>\n",
       "      <td>9.776028e-01</td>\n",
       "      <td>-1.554931e-04</td>\n",
       "    </tr>\n",
       "    <tr>\n",
       "      <th>store_nbr</th>\n",
       "      <td>0.000301</td>\n",
       "      <td>1.000000e+00</td>\n",
       "      <td>0.041196</td>\n",
       "      <td>0.007286</td>\n",
       "      <td>5.272840e-17</td>\n",
       "      <td>-4.946280e-15</td>\n",
       "      <td>8.754910e-15</td>\n",
       "      <td>4.390413e-17</td>\n",
       "    </tr>\n",
       "    <tr>\n",
       "      <th>sales</th>\n",
       "      <td>0.085784</td>\n",
       "      <td>4.119605e-02</td>\n",
       "      <td>1.000000</td>\n",
       "      <td>0.427923</td>\n",
       "      <td>3.686897e-02</td>\n",
       "      <td>1.978967e-02</td>\n",
       "      <td>8.109275e-02</td>\n",
       "      <td>5.187378e-02</td>\n",
       "    </tr>\n",
       "    <tr>\n",
       "      <th>onpromotion</th>\n",
       "      <td>0.206260</td>\n",
       "      <td>7.285647e-03</td>\n",
       "      <td>0.427923</td>\n",
       "      <td>1.000000</td>\n",
       "      <td>-2.696396e-03</td>\n",
       "      <td>2.588107e-02</td>\n",
       "      <td>1.990601e-01</td>\n",
       "      <td>-2.959044e-02</td>\n",
       "    </tr>\n",
       "    <tr>\n",
       "      <th>day_of_week</th>\n",
       "      <td>-0.001561</td>\n",
       "      <td>5.272840e-17</td>\n",
       "      <td>0.036869</td>\n",
       "      <td>-0.002696</td>\n",
       "      <td>1.000000e+00</td>\n",
       "      <td>-5.607083e-03</td>\n",
       "      <td>-3.993864e-04</td>\n",
       "      <td>7.907226e-01</td>\n",
       "    </tr>\n",
       "    <tr>\n",
       "      <th>month</th>\n",
       "      <td>0.067434</td>\n",
       "      <td>-4.946280e-15</td>\n",
       "      <td>0.019790</td>\n",
       "      <td>0.025881</td>\n",
       "      <td>-5.607083e-03</td>\n",
       "      <td>1.000000e+00</td>\n",
       "      <td>-1.432929e-01</td>\n",
       "      <td>-7.650410e-04</td>\n",
       "    </tr>\n",
       "    <tr>\n",
       "      <th>year</th>\n",
       "      <td>0.977603</td>\n",
       "      <td>8.754910e-15</td>\n",
       "      <td>0.081093</td>\n",
       "      <td>0.199060</td>\n",
       "      <td>-3.993864e-04</td>\n",
       "      <td>-1.432929e-01</td>\n",
       "      <td>1.000000e+00</td>\n",
       "      <td>-2.262704e-05</td>\n",
       "    </tr>\n",
       "    <tr>\n",
       "      <th>weekend</th>\n",
       "      <td>-0.000155</td>\n",
       "      <td>4.390413e-17</td>\n",
       "      <td>0.051874</td>\n",
       "      <td>-0.029590</td>\n",
       "      <td>7.907226e-01</td>\n",
       "      <td>-7.650410e-04</td>\n",
       "      <td>-2.262704e-05</td>\n",
       "      <td>1.000000e+00</td>\n",
       "    </tr>\n",
       "  </tbody>\n",
       "</table>\n",
       "</div>"
      ],
      "text/plain": [
       "                   id     store_nbr     sales  onpromotion   day_of_week  \\\n",
       "id           1.000000  3.013308e-04  0.085784     0.206260 -1.561462e-03   \n",
       "store_nbr    0.000301  1.000000e+00  0.041196     0.007286  5.272840e-17   \n",
       "sales        0.085784  4.119605e-02  1.000000     0.427923  3.686897e-02   \n",
       "onpromotion  0.206260  7.285647e-03  0.427923     1.000000 -2.696396e-03   \n",
       "day_of_week -0.001561  5.272840e-17  0.036869    -0.002696  1.000000e+00   \n",
       "month        0.067434 -4.946280e-15  0.019790     0.025881 -5.607083e-03   \n",
       "year         0.977603  8.754910e-15  0.081093     0.199060 -3.993864e-04   \n",
       "weekend     -0.000155  4.390413e-17  0.051874    -0.029590  7.907226e-01   \n",
       "\n",
       "                    month          year       weekend  \n",
       "id           6.743357e-02  9.776028e-01 -1.554931e-04  \n",
       "store_nbr   -4.946280e-15  8.754910e-15  4.390413e-17  \n",
       "sales        1.978967e-02  8.109275e-02  5.187378e-02  \n",
       "onpromotion  2.588107e-02  1.990601e-01 -2.959044e-02  \n",
       "day_of_week -5.607083e-03 -3.993864e-04  7.907226e-01  \n",
       "month        1.000000e+00 -1.432929e-01 -7.650410e-04  \n",
       "year        -1.432929e-01  1.000000e+00 -2.262704e-05  \n",
       "weekend     -7.650410e-04 -2.262704e-05  1.000000e+00  "
      ]
     },
     "execution_count": 19,
     "metadata": {},
     "output_type": "execute_result"
    }
   ],
   "source": [
    "# Calculate the correlation matrix\n",
    "\n",
    "numeric_columns = train.select_dtypes(include=['int32', 'int64', 'float64']).columns\n",
    "\n",
    "correlation_matrix = train[numeric_columns].corr()\n",
    "\n",
    "correlation_matrix\n"
   ]
  },
  {
   "cell_type": "code",
   "execution_count": 20,
   "metadata": {},
   "outputs": [
    {
     "data": {
      "image/png": "[encoded data removed]",
      "text/plain": [
       "<Figure size 1000x800 with 2 Axes>"
      ]
     },
     "metadata": {},
     "output_type": "display_data"
    }
   ],
   "source": [
    "# plot the correlation matric\n",
    "\n",
    "plt.figure(figsize=(10, 8))\n",
    "sns.heatmap(correlation_matrix, annot=True, cmap='Blues', vmin=-1, vmax=1, center=0)\n",
    "plt.title('Correlation Heatmap of Numeric Features', fontsize=16)\n",
    "plt.tight_layout()\n",
    "plt.show()"
   ]
  },
  {
   "cell_type": "markdown",
   "metadata": {},
   "source": [
    "1. Strong Correlations:\n",
    "\n",
    "id and year (0.977603): This extremely high correlation suggests that the id is likely a time-based identifier, increasing with the year.\n",
    "\n",
    "day_of_week and weekend (0.790723): This strong positive correlation is expected, as weekends are a subset of days of the week.\n",
    "\n",
    "2. Moderate Correlations:\n",
    "\n",
    "sales and onpromotion (0.427923): This positive correlation suggests that items on promotion tend to have higher sales.\n",
    "\n",
    "id and onpromotion (0.206260): There's a weak to moderate positive correlation, which might indicate that promotions have increased over time.\n",
    "\n",
    "3. Weak Correlations:\n",
    "\n",
    "sales and id (0.085784): A weak positive correlation, possibly indicating a slight increase in sales over time.\n",
    "\n",
    "sales and year (0.081093): Similar to the id correlation, suggesting a slight upward trend in sales over the years.\n",
    "\n",
    "sales and weekend (0.051874): A very weak positive correlation, indicating slightly higher sales on weekends.\n",
    "\n",
    "4. No Significant Correlations:\n",
    "\n",
    "store_nbr shows very weak or no correlation with other variables, suggesting that the store number doesn't significantly impact other factors.\n",
    "\n",
    "month shows very weak correlations with other variables, indicating that the month of the year doesn't strongly influence sales or other factors."
   ]
  },
  {
   "cell_type": "markdown",
   "metadata": {},
   "source": [
    "#### test data"
   ]
  },
  {
   "cell_type": "code",
   "execution_count": 21,
   "metadata": {},
   "outputs": [
    {
     "name": "stdout",
     "output_type": "stream",
     "text": [
      "<class 'pandas.core.frame.DataFrame'>\n",
      "RangeIndex: 28512 entries, 0 to 28511\n",
      "Data columns (total 5 columns):\n",
      " #   Column       Non-Null Count  Dtype \n",
      "---  ------       --------------  ----- \n",
      " 0   id           28512 non-null  int64 \n",
      " 1   date         28512 non-null  object\n",
      " 2   store_nbr    28512 non-null  int64 \n",
      " 3   family       28512 non-null  object\n",
      " 4   onpromotion  28512 non-null  int64 \n",
      "dtypes: int64(3), object(2)\n",
      "memory usage: 1.1+ MB\n"
     ]
    }
   ],
   "source": [
    "test.info()"
   ]
  },
  {
   "cell_type": "code",
   "execution_count": 22,
   "metadata": {},
   "outputs": [],
   "source": [
    "# Convert date to datetime format\n",
    "\n",
    "test['date'] = pd.to_datetime(test['date'])"
   ]
  },
  {
   "cell_type": "code",
   "execution_count": 23,
   "metadata": {},
   "outputs": [],
   "source": [
    "# Create additional time-based features\n",
    "\n",
    "test['day_of_week'] = test['date'].dt.dayofweek\n",
    "test['month'] = test['date'].dt.month\n",
    "test['year'] = test['date'].dt.year\n",
    "test['weekend'] = test['day_of_week'].isin([5, 6]).astype(int)\n"
   ]
  },
  {
   "cell_type": "code",
   "execution_count": 24,
   "metadata": {},
   "outputs": [
    {
     "name": "stdout",
     "output_type": "stream",
     "text": [
      "<class 'pandas.core.frame.DataFrame'>\n",
      "RangeIndex: 28512 entries, 0 to 28511\n",
      "Data columns (total 9 columns):\n",
      " #   Column       Non-Null Count  Dtype         \n",
      "---  ------       --------------  -----         \n",
      " 0   id           28512 non-null  int64         \n",
      " 1   date         28512 non-null  datetime64[ns]\n",
      " 2   store_nbr    28512 non-null  int64         \n",
      " 3   family       28512 non-null  object        \n",
      " 4   onpromotion  28512 non-null  int64         \n",
      " 5   day_of_week  28512 non-null  int32         \n",
      " 6   month        28512 non-null  int32         \n",
      " 7   year         28512 non-null  int32         \n",
      " 8   weekend      28512 non-null  int64         \n",
      "dtypes: datetime64[ns](1), int32(3), int64(4), object(1)\n",
      "memory usage: 1.6+ MB\n"
     ]
    }
   ],
   "source": [
    "test.info()"
   ]
  },
  {
   "cell_type": "code",
   "execution_count": 25,
   "metadata": {},
   "outputs": [
    {
     "data": {
      "text/plain": [
       "np.int64(0)"
      ]
     },
     "execution_count": 25,
     "metadata": {},
     "output_type": "execute_result"
    }
   ],
   "source": [
    "# checking for missing values\n",
    "\n",
    "test.isnull().sum().sum()"
   ]
  },
  {
   "cell_type": "code",
   "execution_count": 26,
   "metadata": {},
   "outputs": [
    {
     "data": {
      "text/plain": [
       "np.int64(0)"
      ]
     },
     "execution_count": 26,
     "metadata": {},
     "output_type": "execute_result"
    }
   ],
   "source": [
    "# Check for dublicates\n",
    "\n",
    "test.duplicated().sum().sum()"
   ]
  },
  {
   "cell_type": "code",
   "execution_count": 27,
   "metadata": {},
   "outputs": [
    {
     "data": {
      "text/html": [
       "<div>\n",
       "<style scoped>\n",
       "    .dataframe tbody tr th:only-of-type {\n",
       "        vertical-align: middle;\n",
       "    }\n",
       "\n",
       "    .dataframe tbody tr th {\n",
       "        vertical-align: top;\n",
       "    }\n",
       "\n",
       "    .dataframe thead th {\n",
       "        text-align: right;\n",
       "    }\n",
       "</style>\n",
       "<table border=\"1\" class=\"dataframe\">\n",
       "  <thead>\n",
       "    <tr style=\"text-align: right;\">\n",
       "      <th></th>\n",
       "      <th>count</th>\n",
       "      <th>mean</th>\n",
       "      <th>min</th>\n",
       "      <th>25%</th>\n",
       "      <th>50%</th>\n",
       "      <th>75%</th>\n",
       "      <th>max</th>\n",
       "      <th>std</th>\n",
       "    </tr>\n",
       "  </thead>\n",
       "  <tbody>\n",
       "    <tr>\n",
       "      <th>id</th>\n",
       "      <td>28512.0</td>\n",
       "      <td>3015143.5</td>\n",
       "      <td>3000888.0</td>\n",
       "      <td>3008015.75</td>\n",
       "      <td>3015143.5</td>\n",
       "      <td>3022271.25</td>\n",
       "      <td>3029399.0</td>\n",
       "      <td>8230.849774</td>\n",
       "    </tr>\n",
       "    <tr>\n",
       "      <th>date</th>\n",
       "      <td>28512</td>\n",
       "      <td>2017-08-23 12:00:00</td>\n",
       "      <td>2017-08-16 00:00:00</td>\n",
       "      <td>2017-08-19 18:00:00</td>\n",
       "      <td>2017-08-23 12:00:00</td>\n",
       "      <td>2017-08-27 06:00:00</td>\n",
       "      <td>2017-08-31 00:00:00</td>\n",
       "      <td>NaN</td>\n",
       "    </tr>\n",
       "    <tr>\n",
       "      <th>store_nbr</th>\n",
       "      <td>28512.0</td>\n",
       "      <td>27.5</td>\n",
       "      <td>1.0</td>\n",
       "      <td>14.0</td>\n",
       "      <td>27.5</td>\n",
       "      <td>41.0</td>\n",
       "      <td>54.0</td>\n",
       "      <td>15.586057</td>\n",
       "    </tr>\n",
       "    <tr>\n",
       "      <th>onpromotion</th>\n",
       "      <td>28512.0</td>\n",
       "      <td>6.965383</td>\n",
       "      <td>0.0</td>\n",
       "      <td>0.0</td>\n",
       "      <td>0.0</td>\n",
       "      <td>6.0</td>\n",
       "      <td>646.0</td>\n",
       "      <td>20.683952</td>\n",
       "    </tr>\n",
       "    <tr>\n",
       "      <th>day_of_week</th>\n",
       "      <td>28512.0</td>\n",
       "      <td>2.9375</td>\n",
       "      <td>0.0</td>\n",
       "      <td>1.75</td>\n",
       "      <td>3.0</td>\n",
       "      <td>4.25</td>\n",
       "      <td>6.0</td>\n",
       "      <td>1.886457</td>\n",
       "    </tr>\n",
       "    <tr>\n",
       "      <th>month</th>\n",
       "      <td>28512.0</td>\n",
       "      <td>8.0</td>\n",
       "      <td>8.0</td>\n",
       "      <td>8.0</td>\n",
       "      <td>8.0</td>\n",
       "      <td>8.0</td>\n",
       "      <td>8.0</td>\n",
       "      <td>0.0</td>\n",
       "    </tr>\n",
       "    <tr>\n",
       "      <th>year</th>\n",
       "      <td>28512.0</td>\n",
       "      <td>2017.0</td>\n",
       "      <td>2017.0</td>\n",
       "      <td>2017.0</td>\n",
       "      <td>2017.0</td>\n",
       "      <td>2017.0</td>\n",
       "      <td>2017.0</td>\n",
       "      <td>0.0</td>\n",
       "    </tr>\n",
       "    <tr>\n",
       "      <th>weekend</th>\n",
       "      <td>28512.0</td>\n",
       "      <td>0.25</td>\n",
       "      <td>0.0</td>\n",
       "      <td>0.0</td>\n",
       "      <td>0.0</td>\n",
       "      <td>0.25</td>\n",
       "      <td>1.0</td>\n",
       "      <td>0.43302</td>\n",
       "    </tr>\n",
       "  </tbody>\n",
       "</table>\n",
       "</div>"
      ],
      "text/plain": [
       "               count                 mean                  min  \\\n",
       "id           28512.0            3015143.5            3000888.0   \n",
       "date           28512  2017-08-23 12:00:00  2017-08-16 00:00:00   \n",
       "store_nbr    28512.0                 27.5                  1.0   \n",
       "onpromotion  28512.0             6.965383                  0.0   \n",
       "day_of_week  28512.0               2.9375                  0.0   \n",
       "month        28512.0                  8.0                  8.0   \n",
       "year         28512.0               2017.0               2017.0   \n",
       "weekend      28512.0                 0.25                  0.0   \n",
       "\n",
       "                             25%                  50%                  75%  \\\n",
       "id                    3008015.75            3015143.5           3022271.25   \n",
       "date         2017-08-19 18:00:00  2017-08-23 12:00:00  2017-08-27 06:00:00   \n",
       "store_nbr                   14.0                 27.5                 41.0   \n",
       "onpromotion                  0.0                  0.0                  6.0   \n",
       "day_of_week                 1.75                  3.0                 4.25   \n",
       "month                        8.0                  8.0                  8.0   \n",
       "year                      2017.0               2017.0               2017.0   \n",
       "weekend                      0.0                  0.0                 0.25   \n",
       "\n",
       "                             max          std  \n",
       "id                     3029399.0  8230.849774  \n",
       "date         2017-08-31 00:00:00          NaN  \n",
       "store_nbr                   54.0    15.586057  \n",
       "onpromotion                646.0    20.683952  \n",
       "day_of_week                  6.0     1.886457  \n",
       "month                        8.0          0.0  \n",
       "year                      2017.0          0.0  \n",
       "weekend                      1.0      0.43302  "
      ]
     },
     "execution_count": 27,
     "metadata": {},
     "output_type": "execute_result"
    }
   ],
   "source": [
    "test.describe().T"
   ]
  },
  {
   "cell_type": "markdown",
   "metadata": {},
   "source": [
    "#### **transactions data**"
   ]
  },
  {
   "cell_type": "markdown",
   "metadata": {},
   "source": [
    "This dataset can provide valuable information about overall store activity"
   ]
  },
  {
   "cell_type": "code",
   "execution_count": 28,
   "metadata": {},
   "outputs": [
    {
     "name": "stdout",
     "output_type": "stream",
     "text": [
      "<class 'pandas.core.frame.DataFrame'>\n",
      "RangeIndex: 83488 entries, 0 to 83487\n",
      "Data columns (total 3 columns):\n",
      " #   Column        Non-Null Count  Dtype \n",
      "---  ------        --------------  ----- \n",
      " 0   date          83488 non-null  object\n",
      " 1   store_nbr     83488 non-null  int64 \n",
      " 2   transactions  83488 non-null  int64 \n",
      "dtypes: int64(2), object(1)\n",
      "memory usage: 1.9+ MB\n"
     ]
    }
   ],
   "source": [
    "transactions.info()"
   ]
  },
  {
   "cell_type": "code",
   "execution_count": 29,
   "metadata": {},
   "outputs": [],
   "source": [
    "# Convert the date columns into datetime format\n",
    "\n",
    "transactions['date'] = pd.to_datetime(transactions['date'])"
   ]
  },
  {
   "cell_type": "code",
   "execution_count": 30,
   "metadata": {},
   "outputs": [],
   "source": [
    "# Sort the transactions dataframe by store_nbr and date\n",
    "\n",
    "transactions = transactions.sort_values(['store_nbr', 'date'])"
   ]
  },
  {
   "cell_type": "code",
   "execution_count": 31,
   "metadata": {},
   "outputs": [],
   "source": [
    "# # Function to create rolling average features (to smooth out short-term fluctuations and highlight longer-term trends)\n",
    "# def create_rolling_features(df):\n",
    "#     df['rolling_avg_7d'] = df.groupby('store_nbr')['transactions'].rolling(window=7, min_periods=1).mean().reset_index(0, drop=True)\n",
    "#     df['rolling_avg_30d'] = df.groupby('store_nbr')['transactions'].rolling(window=30, min_periods=1).mean().reset_index(0, drop=True)\n",
    "#     return df"
   ]
  },
  {
   "cell_type": "code",
   "execution_count": 32,
   "metadata": {},
   "outputs": [],
   "source": [
    "# transactions = create_rolling_features(transactions)"
   ]
  },
  {
   "cell_type": "code",
   "execution_count": 33,
   "metadata": {},
   "outputs": [
    {
     "name": "stdout",
     "output_type": "stream",
     "text": [
      "Train date range: 2013-01-01 00:00:00 to 2017-08-15 00:00:00\n",
      "Test date range: 2017-08-16 00:00:00 to 2017-08-31 00:00:00\n",
      "Transactions date range: 2013-01-01 00:00:00 to 2017-08-15 00:00:00\n"
     ]
    }
   ],
   "source": [
    "# Check the date ranges of your datasets\n",
    "\n",
    "print(\"Train date range:\", train['date'].min(), \"to\", train['date'].max())\n",
    "print(\"Test date range:\", test['date'].min(), \"to\", test['date'].max())\n",
    "print(\"Transactions date range:\", transactions['date'].min(), \"to\", transactions['date'].max())\n"
   ]
  },
  {
   "cell_type": "markdown",
   "metadata": {},
   "source": [
    "There is a mismatch between the transactions dataset and the test dataset. The transactions data ends on 2017-08-15, while the test data goes up to 2017-08-31. This will indeed cause NaN values when we try to merge the datasets. We would estimate transaction data for the missing test dates based on historical data. This involves creating synthetic transaction data for the test period based on trends observed in the training data."
   ]
  },
  {
   "cell_type": "code",
   "execution_count": 34,
   "metadata": {},
   "outputs": [],
   "source": [
    "# Identify missing dates in transactions for the test period\n",
    "\n",
    "last_transaction_date = transactions['date'].max()\n",
    "test_start_date = test['date'].min()\n",
    "test_end_date = test['date'].max()"
   ]
  },
  {
   "cell_type": "code",
   "execution_count": 35,
   "metadata": {},
   "outputs": [],
   "source": [
    "# Create a date range for the missing dates\n",
    "\n",
    "if last_transaction_date < test_end_date:\n",
    "    missing_dates = pd.date_range(start=last_transaction_date + pd.Timedelta(days=1), end=test_end_date)"
   ]
  },
  {
   "cell_type": "code",
   "execution_count": 36,
   "metadata": {},
   "outputs": [],
   "source": [
    "# Get unique store numbers\n",
    "\n",
    "stores = transactions['store_nbr'].unique()"
   ]
  },
  {
   "cell_type": "code",
   "execution_count": 37,
   "metadata": {},
   "outputs": [],
   "source": [
    "# Create a DataFrame for the missing dates\n",
    "\n",
    "missing_df = pd.DataFrame([(date, store) for date in missing_dates for store in stores], \n",
    "                              \n",
    "                              columns=['date', 'store_nbr'])\n"
   ]
  },
  {
   "cell_type": "code",
   "execution_count": 38,
   "metadata": {},
   "outputs": [],
   "source": [
    "# Function to estimate transactions for a store on a given date\n",
    "def estimate_transactions(group):\n",
    "    # Use the mean of the last available transactions for the same weekday\n",
    "        last_date = group['date'].max()\n",
    "        weekday = last_date.weekday()\n",
    "        historical_same_weekday = group[group['date'].dt.weekday == weekday]\n",
    "        return historical_same_weekday['transactions'].mean() if not historical_same_weekday.empty else 0"
   ]
  },
  {
   "cell_type": "code",
   "execution_count": 39,
   "metadata": {},
   "outputs": [],
   "source": [
    "# Estimate transactions for missing dates\n",
    "\n",
    "for store in stores:\n",
    "        store_data = transactions[transactions['store_nbr'] == store]\n",
    "        estimated_value = estimate_transactions(store_data)\n",
    "        missing_df.loc[missing_df['store_nbr'] == store, 'transactions'] = estimated_value"
   ]
  },
  {
   "cell_type": "code",
   "execution_count": 40,
   "metadata": {},
   "outputs": [],
   "source": [
    "# Concatenate the original and estimated transactions\n",
    "\n",
    "transaction_data = pd.concat([transactions, missing_df], ignore_index=True)\n"
   ]
  },
  {
   "cell_type": "code",
   "execution_count": 41,
   "metadata": {},
   "outputs": [],
   "source": [
    "# Sort the dataframe\n",
    "\n",
    "transaction_data = transaction_data.sort_values(['store_nbr', 'date'])"
   ]
  },
  {
   "cell_type": "code",
   "execution_count": 42,
   "metadata": {},
   "outputs": [],
   "source": [
    "# Create rolling features\n",
    "def create_rolling_features(df):\n",
    "    df['rolling_avg_7d'] = df.groupby('store_nbr')['transactions'].rolling(window=7, min_periods=1).mean().reset_index(0, drop=True)\n",
    "    df['rolling_avg_30d'] = df.groupby('store_nbr')['transactions'].rolling(window=30, min_periods=1).mean().reset_index(0, drop=True)\n",
    "    return df\n",
    "\n",
    "transaction_data = create_rolling_features(transaction_data)\n"
   ]
  },
  {
   "cell_type": "code",
   "execution_count": 43,
   "metadata": {},
   "outputs": [
    {
     "data": {
      "text/html": [
       "<div>\n",
       "<style scoped>\n",
       "    .dataframe tbody tr th:only-of-type {\n",
       "        vertical-align: middle;\n",
       "    }\n",
       "\n",
       "    .dataframe tbody tr th {\n",
       "        vertical-align: top;\n",
       "    }\n",
       "\n",
       "    .dataframe thead th {\n",
       "        text-align: right;\n",
       "    }\n",
       "</style>\n",
       "<table border=\"1\" class=\"dataframe\">\n",
       "  <thead>\n",
       "    <tr style=\"text-align: right;\">\n",
       "      <th></th>\n",
       "      <th>date</th>\n",
       "      <th>store_nbr</th>\n",
       "      <th>transactions</th>\n",
       "      <th>rolling_avg_7d</th>\n",
       "      <th>rolling_avg_30d</th>\n",
       "    </tr>\n",
       "  </thead>\n",
       "  <tbody>\n",
       "    <tr>\n",
       "      <th>84135</th>\n",
       "      <td>2017-08-27</td>\n",
       "      <td>54</td>\n",
       "      <td>817.721992</td>\n",
       "      <td>817.721992</td>\n",
       "      <td>833.222130</td>\n",
       "    </tr>\n",
       "    <tr>\n",
       "      <th>84189</th>\n",
       "      <td>2017-08-28</td>\n",
       "      <td>54</td>\n",
       "      <td>817.721992</td>\n",
       "      <td>817.721992</td>\n",
       "      <td>831.479530</td>\n",
       "    </tr>\n",
       "    <tr>\n",
       "      <th>84243</th>\n",
       "      <td>2017-08-29</td>\n",
       "      <td>54</td>\n",
       "      <td>817.721992</td>\n",
       "      <td>817.721992</td>\n",
       "      <td>821.803596</td>\n",
       "    </tr>\n",
       "    <tr>\n",
       "      <th>84297</th>\n",
       "      <td>2017-08-30</td>\n",
       "      <td>54</td>\n",
       "      <td>817.721992</td>\n",
       "      <td>817.721992</td>\n",
       "      <td>820.394329</td>\n",
       "    </tr>\n",
       "    <tr>\n",
       "      <th>84351</th>\n",
       "      <td>2017-08-31</td>\n",
       "      <td>54</td>\n",
       "      <td>817.721992</td>\n",
       "      <td>817.721992</td>\n",
       "      <td>819.618396</td>\n",
       "    </tr>\n",
       "  </tbody>\n",
       "</table>\n",
       "</div>"
      ],
      "text/plain": [
       "            date  store_nbr  transactions  rolling_avg_7d  rolling_avg_30d\n",
       "84135 2017-08-27         54    817.721992      817.721992       833.222130\n",
       "84189 2017-08-28         54    817.721992      817.721992       831.479530\n",
       "84243 2017-08-29         54    817.721992      817.721992       821.803596\n",
       "84297 2017-08-30         54    817.721992      817.721992       820.394329\n",
       "84351 2017-08-31         54    817.721992      817.721992       819.618396"
      ]
     },
     "execution_count": 43,
     "metadata": {},
     "output_type": "execute_result"
    }
   ],
   "source": [
    "transaction_data.tail()"
   ]
  },
  {
   "cell_type": "code",
   "execution_count": 44,
   "metadata": {},
   "outputs": [
    {
     "data": {
      "text/plain": [
       "np.int64(0)"
      ]
     },
     "execution_count": 44,
     "metadata": {},
     "output_type": "execute_result"
    }
   ],
   "source": [
    "transaction_data.isnull().sum().sum()"
   ]
  },
  {
   "cell_type": "code",
   "execution_count": 45,
   "metadata": {},
   "outputs": [
    {
     "data": {
      "text/plain": [
       "np.int64(0)"
      ]
     },
     "execution_count": 45,
     "metadata": {},
     "output_type": "execute_result"
    }
   ],
   "source": [
    "transaction_data.duplicated().sum()"
   ]
  },
  {
   "cell_type": "code",
   "execution_count": 46,
   "metadata": {},
   "outputs": [],
   "source": [
    "# Merge with train and test datasets\n",
    "\n",
    "train_data = pd.merge(train, transaction_data, on=['date', 'store_nbr'], how='left')\n",
    "\n",
    "test_data = pd.merge(test, transaction_data, on=['date', 'store_nbr'], how='left')\n"
   ]
  },
  {
   "cell_type": "code",
   "execution_count": 47,
   "metadata": {},
   "outputs": [
    {
     "name": "stdout",
     "output_type": "stream",
     "text": [
      "Missing values in train set: id                      0\n",
      "date                    0\n",
      "store_nbr               0\n",
      "family                  0\n",
      "sales                   0\n",
      "onpromotion             0\n",
      "day_of_week             0\n",
      "month                   0\n",
      "year                    0\n",
      "weekend                 0\n",
      "transactions       245784\n",
      "rolling_avg_7d     245784\n",
      "rolling_avg_30d    245784\n",
      "dtype: int64\n",
      "Missing values in test set: id                 0\n",
      "date               0\n",
      "store_nbr          0\n",
      "family             0\n",
      "onpromotion        0\n",
      "day_of_week        0\n",
      "month              0\n",
      "year               0\n",
      "weekend            0\n",
      "transactions       0\n",
      "rolling_avg_7d     0\n",
      "rolling_avg_30d    0\n",
      "dtype: int64\n"
     ]
    }
   ],
   "source": [
    "# Check for any remaining NaN values\n",
    "\n",
    "print(\"Missing values in train set:\", train_data.isnull().sum())\n",
    "print(\"Missing values in test set:\", test_data.isnull().sum())"
   ]
  },
  {
   "cell_type": "markdown",
   "metadata": {},
   "source": [
    "The problem likely stems from dates in the train set that are not present in the transactions dataset. Step-by-step approach to address this:"
   ]
  },
  {
   "cell_type": "code",
   "execution_count": 48,
   "metadata": {},
   "outputs": [
    {
     "name": "stdout",
     "output_type": "stream",
     "text": [
      "Number of unique missing dates: 1566\n",
      "Sample of missing dates: <DatetimeArray>\n",
      "['2013-01-01 00:00:00', '2013-01-02 00:00:00', '2013-01-03 00:00:00',\n",
      " '2013-01-04 00:00:00', '2013-01-05 00:00:00']\n",
      "Length: 5, dtype: datetime64[ns]\n"
     ]
    }
   ],
   "source": [
    "# Identify the missing dates in the train set\n",
    "\n",
    "missing_dates = train_data[train_data['transactions'].isnull()]['date'].unique()\n",
    "print(f\"Number of unique missing dates: {len(missing_dates)}\")\n",
    "print(\"Sample of missing dates:\", missing_dates[:5])  # Print first 5 as an example\n",
    "\n"
   ]
  },
  {
   "cell_type": "code",
   "execution_count": 49,
   "metadata": {},
   "outputs": [],
   "source": [
    "# Create a complete transactions dataset that covers all dates in both train and test sets\n",
    "\n",
    "# Get the full date range\n",
    "all_dates = pd.date_range(start=min(train['date'].min(), transactions['date'].min()),\n",
    "                          end=max(train['date'].max(), test['date'].max()))\n",
    "\n",
    "# Get all unique store numbers\n",
    "all_stores = transactions['store_nbr'].unique()\n",
    "\n",
    "# Create a DataFrame with all combinations of dates and stores\n",
    "full_index = pd.MultiIndex.from_product([all_dates, all_stores], names=['date', 'store_nbr'])\n",
    "full_transactions_df = pd.DataFrame(index=full_index).reset_index()\n",
    "\n",
    "# Merge with the existing transactions data\n",
    "full_transactions_df = pd.merge(full_transactions_df, transactions, on=['date', 'store_nbr'], how='left')\n",
    "\n",
    "# Sort the dataframe\n",
    "full_transactions_df = full_transactions_df.sort_values(['store_nbr', 'date'])\n",
    "\n",
    "\n"
   ]
  },
  {
   "cell_type": "code",
   "execution_count": 50,
   "metadata": {},
   "outputs": [],
   "source": [
    "#Estimate missing transactions\n",
    "\n",
    "def estimate_transactions(group):\n",
    "    group = group.sort_values('date')\n",
    "    group['transactions'] = group['transactions'].fillna(method='ffill')\n",
    "    \n",
    "    if group['transactions'].isnull().any():\n",
    "        # If there are still NaNs, fill with the mean of the same weekday\n",
    "        group['weekday'] = group['date'].dt.weekday\n",
    "        group['transactions'] = group['transactions'].fillna(group.groupby('weekday')['transactions'].transform('mean'))\n",
    "    \n",
    "    # If there are still NaNs (e.g., for a new store), fill with overall mean\n",
    "    group['transactions'] = group['transactions'].fillna(group['transactions'].mean())\n",
    "    \n",
    "    return group\n",
    "\n",
    "# Fill missing transactions\n",
    "full_transactions_df = full_transactions_df.groupby('store_nbr').apply(estimate_transactions).reset_index(drop=True)\n"
   ]
  },
  {
   "cell_type": "code",
   "execution_count": 51,
   "metadata": {},
   "outputs": [
    {
     "name": "stdout",
     "output_type": "stream",
     "text": [
      "<class 'pandas.core.frame.DataFrame'>\n",
      "RangeIndex: 92016 entries, 0 to 92015\n",
      "Data columns (total 6 columns):\n",
      " #   Column           Non-Null Count  Dtype         \n",
      "---  ------           --------------  -----         \n",
      " 0   date             92016 non-null  datetime64[ns]\n",
      " 1   store_nbr        92016 non-null  int64         \n",
      " 2   transactions     92016 non-null  float64       \n",
      " 3   weekday          90312 non-null  float64       \n",
      " 4   rolling_avg_7d   92016 non-null  float64       \n",
      " 5   rolling_avg_30d  92016 non-null  float64       \n",
      "dtypes: datetime64[ns](1), float64(4), int64(1)\n",
      "memory usage: 4.2 MB\n"
     ]
    }
   ],
   "source": [
    "# Create rolling features\n",
    "\n",
    "def create_rolling_features(df):\n",
    "    df = df.sort_values(['store_nbr', 'date'])\n",
    "    df['rolling_avg_7d'] = df.groupby('store_nbr')['transactions'].rolling(window=7, min_periods=1).mean().reset_index(0, drop=True)\n",
    "    df['rolling_avg_30d'] = df.groupby('store_nbr')['transactions'].rolling(window=30, min_periods=1).mean().reset_index(0, drop=True)\n",
    "    return df\n",
    "\n",
    "full_transactions_df = create_rolling_features(full_transactions_df)\n",
    "\n",
    "full_transactions_df.info()\n"
   ]
  },
  {
   "cell_type": "code",
   "execution_count": 52,
   "metadata": {},
   "outputs": [],
   "source": [
    "# Merge with train and test datasets\n",
    "\n",
    "train_merged = pd.merge(train, full_transactions_df, on=['date', 'store_nbr'], how='left')\n",
    "test_merged = pd.merge(test, full_transactions_df, on=['date', 'store_nbr'], how='left')\n"
   ]
  },
  {
   "cell_type": "code",
   "execution_count": 53,
   "metadata": {},
   "outputs": [
    {
     "name": "stdout",
     "output_type": "stream",
     "text": [
      "Missing values in train set: id                     0\n",
      "date                   0\n",
      "store_nbr              0\n",
      "family                 0\n",
      "sales                  0\n",
      "onpromotion            0\n",
      "day_of_week            0\n",
      "month                  0\n",
      "year                   0\n",
      "weekend                0\n",
      "transactions           0\n",
      "weekday            55572\n",
      "rolling_avg_7d         0\n",
      "rolling_avg_30d        0\n",
      "dtype: int64\n",
      "Missing values in test set: id                   0\n",
      "date                 0\n",
      "store_nbr            0\n",
      "family               0\n",
      "onpromotion          0\n",
      "day_of_week          0\n",
      "month                0\n",
      "year                 0\n",
      "weekend              0\n",
      "transactions         0\n",
      "weekday            528\n",
      "rolling_avg_7d       0\n",
      "rolling_avg_30d      0\n",
      "dtype: int64\n"
     ]
    }
   ],
   "source": [
    "# Recheck for missing values\n",
    "\n",
    "print(\"Missing values in train set:\", train_merged.isnull().sum())\n",
    "print(\"Missing values in test set:\", test_merged.isnull().sum())\n"
   ]
  },
  {
   "cell_type": "markdown",
   "metadata": {},
   "source": [
    "The main issue we had with missing transaction data has been resolved. However, we now have missing values in the 'weekday' column for both train and test sets. To resove this, the 'weekday' column would be removed since this column was only used for estimation and is causing issues in the merged datasets."
   ]
  },
  {
   "cell_type": "code",
   "execution_count": 54,
   "metadata": {},
   "outputs": [
    {
     "name": "stdout",
     "output_type": "stream",
     "text": [
      "Missing values in train set: id                 0\n",
      "date               0\n",
      "store_nbr          0\n",
      "family             0\n",
      "sales              0\n",
      "onpromotion        0\n",
      "day_of_week        0\n",
      "month              0\n",
      "year               0\n",
      "weekend            0\n",
      "transactions       0\n",
      "rolling_avg_7d     0\n",
      "rolling_avg_30d    0\n",
      "dtype: int64\n",
      "Missing values in test set: id                 0\n",
      "date               0\n",
      "store_nbr          0\n",
      "family             0\n",
      "onpromotion        0\n",
      "day_of_week        0\n",
      "month              0\n",
      "year               0\n",
      "weekend            0\n",
      "transactions       0\n",
      "rolling_avg_7d     0\n",
      "rolling_avg_30d    0\n",
      "dtype: int64\n"
     ]
    }
   ],
   "source": [
    "# Remove the 'weekday' column from full_transactions_df\n",
    "full_transactions_df = full_transactions_df.drop(columns=['weekday'])\n",
    "\n",
    "# Merge again with train and test datasets\n",
    "train_merged = pd.merge(train, full_transactions_df, on=['date', 'store_nbr'], how='left')\n",
    "test_merged = pd.merge(test, full_transactions_df, on=['date', 'store_nbr'], how='left')\n",
    "\n",
    "# Final check for missing values\n",
    "print(\"Missing values in train set:\", train_merged.isnull().sum())\n",
    "print(\"Missing values in test set:\", test_merged.isnull().sum())\n",
    "\n"
   ]
  },
  {
   "cell_type": "code",
   "execution_count": 55,
   "metadata": {},
   "outputs": [
    {
     "name": "stdout",
     "output_type": "stream",
     "text": [
      "\n",
      "Columns in train_merged: Index(['id', 'date', 'store_nbr', 'family', 'sales', 'onpromotion',\n",
      "       'day_of_week', 'month', 'year', 'weekend', 'transactions',\n",
      "       'rolling_avg_7d', 'rolling_avg_30d'],\n",
      "      dtype='object')\n",
      "\n",
      "Columns in test_merged: Index(['id', 'date', 'store_nbr', 'family', 'onpromotion', 'day_of_week',\n",
      "       'month', 'year', 'weekend', 'transactions', 'rolling_avg_7d',\n",
      "       'rolling_avg_30d'],\n",
      "      dtype='object')\n"
     ]
    }
   ],
   "source": [
    "# Check if all necessary columns are present\n",
    "\n",
    "print(\"\\nColumns in train_merged:\", train_merged.columns)\n",
    "print(\"\\nColumns in test_merged:\", test_merged.columns)\n",
    "\n"
   ]
  },
  {
   "cell_type": "markdown",
   "metadata": {},
   "source": [
    "The train_merged dataset includes the 'sales' column, which is expected since it's the target variable for training, while the test_merged dataset does not include 'sales', which is also expected."
   ]
  },
  {
   "cell_type": "code",
   "execution_count": 57,
   "metadata": {},
   "outputs": [
    {
     "name": "stdout",
     "output_type": "stream",
     "text": [
      "\n",
      "Train set info:\n",
      "<class 'pandas.core.frame.DataFrame'>\n",
      "RangeIndex: 3000888 entries, 0 to 3000887\n",
      "Data columns (total 13 columns):\n",
      " #   Column           Dtype         \n",
      "---  ------           -----         \n",
      " 0   id               int64         \n",
      " 1   date             datetime64[ns]\n",
      " 2   store_nbr        int64         \n",
      " 3   family           object        \n",
      " 4   sales            float64       \n",
      " 5   onpromotion      int64         \n",
      " 6   day_of_week      int32         \n",
      " 7   month            int32         \n",
      " 8   year             int32         \n",
      " 9   weekend          int64         \n",
      " 10  transactions     float64       \n",
      " 11  rolling_avg_7d   float64       \n",
      " 12  rolling_avg_30d  float64       \n",
      "dtypes: datetime64[ns](1), float64(4), int32(3), int64(4), object(1)\n",
      "memory usage: 263.3+ MB\n"
     ]
    }
   ],
   "source": [
    "# Display info about the final datasets\n",
    "\n",
    "print(\"\\nTrain set info:\")\n",
    "train_merged.info()\n",
    "\n"
   ]
  },
  {
   "cell_type": "code",
   "execution_count": 58,
   "metadata": {},
   "outputs": [
    {
     "name": "stdout",
     "output_type": "stream",
     "text": [
      "\n",
      "Test set info:\n",
      "<class 'pandas.core.frame.DataFrame'>\n",
      "RangeIndex: 28512 entries, 0 to 28511\n",
      "Data columns (total 12 columns):\n",
      " #   Column           Non-Null Count  Dtype         \n",
      "---  ------           --------------  -----         \n",
      " 0   id               28512 non-null  int64         \n",
      " 1   date             28512 non-null  datetime64[ns]\n",
      " 2   store_nbr        28512 non-null  int64         \n",
      " 3   family           28512 non-null  object        \n",
      " 4   onpromotion      28512 non-null  int64         \n",
      " 5   day_of_week      28512 non-null  int32         \n",
      " 6   month            28512 non-null  int32         \n",
      " 7   year             28512 non-null  int32         \n",
      " 8   weekend          28512 non-null  int64         \n",
      " 9   transactions     28512 non-null  float64       \n",
      " 10  rolling_avg_7d   28512 non-null  float64       \n",
      " 11  rolling_avg_30d  28512 non-null  float64       \n",
      "dtypes: datetime64[ns](1), float64(3), int32(3), int64(4), object(1)\n",
      "memory usage: 2.3+ MB\n"
     ]
    }
   ],
   "source": [
    "print(\"\\nTest set info:\")\n",
    "test_merged.info()"
   ]
  },
  {
   "cell_type": "markdown",
   "metadata": {},
   "source": [
    "#### **stores data**"
   ]
  },
  {
   "cell_type": "markdown",
   "metadata": {},
   "source": [
    "This metadata can help in understanding store-specific patterns."
   ]
  },
  {
   "cell_type": "code",
   "execution_count": 61,
   "metadata": {},
   "outputs": [
    {
     "data": {
      "text/plain": [
       "array([ 1,  2,  3,  4,  5,  6,  7,  8,  9, 10, 11, 12, 13, 14, 15, 16, 17,\n",
       "       18, 19, 20, 21, 22, 23, 24, 25, 26, 27, 28, 29, 30, 31, 32, 33, 34,\n",
       "       35, 36, 37, 38, 39, 40, 41, 42, 43, 44, 45, 46, 47, 48, 49, 50, 51,\n",
       "       52, 53, 54])"
      ]
     },
     "execution_count": 61,
     "metadata": {},
     "output_type": "execute_result"
    }
   ],
   "source": [
    "stores"
   ]
  },
  {
   "cell_type": "code",
   "execution_count": 63,
   "metadata": {},
   "outputs": [],
   "source": [
    "# Convert the stores array to a DataFrame\n",
    "\n",
    "stores_df = pd.DataFrame(stores, columns=['store_nbr'])"
   ]
  },
  {
   "cell_type": "code",
   "execution_count": 64,
   "metadata": {},
   "outputs": [],
   "source": [
    "# Merge the stores DataFrame with the train and test DataFrames\n",
    "\n",
    "train_merged_st = pd.merge(train_merged, stores_df, on='store_nbr', how='inner')\n",
    "test_merged_st = pd.merge(test_merged, stores_df, on='store_nbr', how='inner')"
   ]
  },
  {
   "cell_type": "code",
   "execution_count": 65,
   "metadata": {},
   "outputs": [
    {
     "name": "stdout",
     "output_type": "stream",
     "text": [
      "\n",
      "Train set info:\n",
      "<class 'pandas.core.frame.DataFrame'>\n",
      "RangeIndex: 3000888 entries, 0 to 3000887\n",
      "Data columns (total 13 columns):\n",
      " #   Column           Dtype         \n",
      "---  ------           -----         \n",
      " 0   id               int64         \n",
      " 1   date             datetime64[ns]\n",
      " 2   store_nbr        int64         \n",
      " 3   family           object        \n",
      " 4   sales            float64       \n",
      " 5   onpromotion      int64         \n",
      " 6   day_of_week      int32         \n",
      " 7   month            int32         \n",
      " 8   year             int32         \n",
      " 9   weekend          int64         \n",
      " 10  transactions     float64       \n",
      " 11  rolling_avg_7d   float64       \n",
      " 12  rolling_avg_30d  float64       \n",
      "dtypes: datetime64[ns](1), float64(4), int32(3), int64(4), object(1)\n",
      "memory usage: 263.3+ MB\n"
     ]
    }
   ],
   "source": [
    "# Display info about the final datasets\n",
    "print(\"\\nTrain set info:\")\n",
    "train_merged_st.info()"
   ]
  },
  {
   "cell_type": "code",
   "execution_count": 67,
   "metadata": {},
   "outputs": [
    {
     "name": "stdout",
     "output_type": "stream",
     "text": [
      "\n",
      "Test set info:\n",
      "<class 'pandas.core.frame.DataFrame'>\n",
      "RangeIndex: 28512 entries, 0 to 28511\n",
      "Data columns (total 12 columns):\n",
      " #   Column           Non-Null Count  Dtype         \n",
      "---  ------           --------------  -----         \n",
      " 0   id               28512 non-null  int64         \n",
      " 1   date             28512 non-null  datetime64[ns]\n",
      " 2   store_nbr        28512 non-null  int64         \n",
      " 3   family           28512 non-null  object        \n",
      " 4   onpromotion      28512 non-null  int64         \n",
      " 5   day_of_week      28512 non-null  int32         \n",
      " 6   month            28512 non-null  int32         \n",
      " 7   year             28512 non-null  int32         \n",
      " 8   weekend          28512 non-null  int64         \n",
      " 9   transactions     28512 non-null  float64       \n",
      " 10  rolling_avg_7d   28512 non-null  float64       \n",
      " 11  rolling_avg_30d  28512 non-null  float64       \n",
      "dtypes: datetime64[ns](1), float64(3), int32(3), int64(4), object(1)\n",
      "memory usage: 2.3+ MB\n"
     ]
    }
   ],
   "source": [
    "print(\"\\nTest set info:\")\n",
    "test_merged_st.info()"
   ]
  },
  {
   "cell_type": "code",
   "execution_count": 69,
   "metadata": {},
   "outputs": [
    {
     "data": {
      "text/html": [
       "<div>\n",
       "<style scoped>\n",
       "    .dataframe tbody tr th:only-of-type {\n",
       "        vertical-align: middle;\n",
       "    }\n",
       "\n",
       "    .dataframe tbody tr th {\n",
       "        vertical-align: top;\n",
       "    }\n",
       "\n",
       "    .dataframe thead th {\n",
       "        text-align: right;\n",
       "    }\n",
       "</style>\n",
       "<table border=\"1\" class=\"dataframe\">\n",
       "  <thead>\n",
       "    <tr style=\"text-align: right;\">\n",
       "      <th></th>\n",
       "      <th>id</th>\n",
       "      <th>date</th>\n",
       "      <th>store_nbr</th>\n",
       "      <th>family</th>\n",
       "      <th>sales</th>\n",
       "      <th>onpromotion</th>\n",
       "      <th>day_of_week</th>\n",
       "      <th>month</th>\n",
       "      <th>year</th>\n",
       "      <th>weekend</th>\n",
       "      <th>transactions</th>\n",
       "      <th>rolling_avg_7d</th>\n",
       "      <th>rolling_avg_30d</th>\n",
       "    </tr>\n",
       "  </thead>\n",
       "  <tbody>\n",
       "    <tr>\n",
       "      <th>0</th>\n",
       "      <td>0</td>\n",
       "      <td>2013-01-01</td>\n",
       "      <td>1</td>\n",
       "      <td>AUTOMOTIVE</td>\n",
       "      <td>0.0</td>\n",
       "      <td>0</td>\n",
       "      <td>1</td>\n",
       "      <td>1</td>\n",
       "      <td>2013</td>\n",
       "      <td>0</td>\n",
       "      <td>1742.300412</td>\n",
       "      <td>1742.300412</td>\n",
       "      <td>1742.300412</td>\n",
       "    </tr>\n",
       "    <tr>\n",
       "      <th>1</th>\n",
       "      <td>1</td>\n",
       "      <td>2013-01-01</td>\n",
       "      <td>1</td>\n",
       "      <td>BABY CARE</td>\n",
       "      <td>0.0</td>\n",
       "      <td>0</td>\n",
       "      <td>1</td>\n",
       "      <td>1</td>\n",
       "      <td>2013</td>\n",
       "      <td>0</td>\n",
       "      <td>1742.300412</td>\n",
       "      <td>1742.300412</td>\n",
       "      <td>1742.300412</td>\n",
       "    </tr>\n",
       "    <tr>\n",
       "      <th>2</th>\n",
       "      <td>2</td>\n",
       "      <td>2013-01-01</td>\n",
       "      <td>1</td>\n",
       "      <td>BEAUTY</td>\n",
       "      <td>0.0</td>\n",
       "      <td>0</td>\n",
       "      <td>1</td>\n",
       "      <td>1</td>\n",
       "      <td>2013</td>\n",
       "      <td>0</td>\n",
       "      <td>1742.300412</td>\n",
       "      <td>1742.300412</td>\n",
       "      <td>1742.300412</td>\n",
       "    </tr>\n",
       "    <tr>\n",
       "      <th>3</th>\n",
       "      <td>3</td>\n",
       "      <td>2013-01-01</td>\n",
       "      <td>1</td>\n",
       "      <td>BEVERAGES</td>\n",
       "      <td>0.0</td>\n",
       "      <td>0</td>\n",
       "      <td>1</td>\n",
       "      <td>1</td>\n",
       "      <td>2013</td>\n",
       "      <td>0</td>\n",
       "      <td>1742.300412</td>\n",
       "      <td>1742.300412</td>\n",
       "      <td>1742.300412</td>\n",
       "    </tr>\n",
       "    <tr>\n",
       "      <th>4</th>\n",
       "      <td>4</td>\n",
       "      <td>2013-01-01</td>\n",
       "      <td>1</td>\n",
       "      <td>BOOKS</td>\n",
       "      <td>0.0</td>\n",
       "      <td>0</td>\n",
       "      <td>1</td>\n",
       "      <td>1</td>\n",
       "      <td>2013</td>\n",
       "      <td>0</td>\n",
       "      <td>1742.300412</td>\n",
       "      <td>1742.300412</td>\n",
       "      <td>1742.300412</td>\n",
       "    </tr>\n",
       "  </tbody>\n",
       "</table>\n",
       "</div>"
      ],
      "text/plain": [
       "   id       date  store_nbr      family  sales  onpromotion  day_of_week  \\\n",
       "0   0 2013-01-01          1  AUTOMOTIVE    0.0            0            1   \n",
       "1   1 2013-01-01          1   BABY CARE    0.0            0            1   \n",
       "2   2 2013-01-01          1      BEAUTY    0.0            0            1   \n",
       "3   3 2013-01-01          1   BEVERAGES    0.0            0            1   \n",
       "4   4 2013-01-01          1       BOOKS    0.0            0            1   \n",
       "\n",
       "   month  year  weekend  transactions  rolling_avg_7d  rolling_avg_30d  \n",
       "0      1  2013        0   1742.300412     1742.300412      1742.300412  \n",
       "1      1  2013        0   1742.300412     1742.300412      1742.300412  \n",
       "2      1  2013        0   1742.300412     1742.300412      1742.300412  \n",
       "3      1  2013        0   1742.300412     1742.300412      1742.300412  \n",
       "4      1  2013        0   1742.300412     1742.300412      1742.300412  "
      ]
     },
     "execution_count": 69,
     "metadata": {},
     "output_type": "execute_result"
    }
   ],
   "source": [
    "train_merged_st.head()"
   ]
  }
 ],
 "metadata": {
  "kernelspec": {
   "display_name": "virtual",
   "language": "python",
   "name": "python3"
  },
  "language_info": {
   "codemirror_mode": {
    "name": "ipython",
    "version": 3
   },
   "file_extension": ".py",
   "mimetype": "text/x-python",
   "name": "python",
   "nbconvert_exporter": "python",
   "pygments_lexer": "ipython3",
   "version": "3.10.9"
  }
 },
 "nbformat": 4,
 "nbformat_minor": 2
}
